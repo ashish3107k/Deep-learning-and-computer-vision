{
  "nbformat": 4,
  "nbformat_minor": 0,
  "metadata": {
    "colab": {
      "name": "14_01_Mnist_Fashion.ipynb",
      "provenance": []
    },
    "kernelspec": {
      "name": "python3",
      "display_name": "Python 3"
    },
    "language_info": {
      "name": "python"
    }
  },
  "cells": [
    {
      "cell_type": "code",
      "execution_count": 1,
      "metadata": {
        "colab": {
          "base_uri": "https://localhost:8080/"
        },
        "id": "sl5hZfr4cnMV",
        "outputId": "11413526-fb09-4cc5-ada2-a59420bc5bba"
      },
      "outputs": [
        {
          "output_type": "stream",
          "name": "stdout",
          "text": [
            "2.8.2\n"
          ]
        }
      ],
      "source": [
        "#Tensorflow and tf.keras\n",
        "\n",
        "import tensorflow as tf\n",
        "from tensorflow import keras\n",
        "\n",
        "#Helper Libraries\n",
        "\n",
        "import numpy as np\n",
        "import matplotlib.pyplot as plt\n",
        "print(tf.__version__)\n"
      ]
    },
    {
      "cell_type": "code",
      "source": [
        "print(np.__version__)"
      ],
      "metadata": {
        "colab": {
          "base_uri": "https://localhost:8080/"
        },
        "id": "s97GNzWbdLtJ",
        "outputId": "77ec0354-4a53-4681-b48e-8181d7f38dbc"
      },
      "execution_count": 2,
      "outputs": [
        {
          "output_type": "stream",
          "name": "stdout",
          "text": [
            "1.21.6\n"
          ]
        }
      ]
    },
    {
      "cell_type": "code",
      "source": [
        "fashion_mnist = keras.datasets.fashion_mnist"
      ],
      "metadata": {
        "id": "Yyy_dR23dyUy"
      },
      "execution_count": 3,
      "outputs": []
    },
    {
      "cell_type": "code",
      "source": [
        "(train_images,train_labels),(test_images,test_labels) = fashion_mnist.load_data()"
      ],
      "metadata": {
        "id": "dmjRG0bEeMX8",
        "colab": {
          "base_uri": "https://localhost:8080/"
        },
        "outputId": "96e850f5-af8f-4c79-ddc8-2c5cf168abcb"
      },
      "execution_count": 4,
      "outputs": [
        {
          "output_type": "stream",
          "name": "stdout",
          "text": [
            "Downloading data from https://storage.googleapis.com/tensorflow/tf-keras-datasets/train-labels-idx1-ubyte.gz\n",
            "32768/29515 [=================================] - 0s 0us/step\n",
            "40960/29515 [=========================================] - 0s 0us/step\n",
            "Downloading data from https://storage.googleapis.com/tensorflow/tf-keras-datasets/train-images-idx3-ubyte.gz\n",
            "26427392/26421880 [==============================] - 0s 0us/step\n",
            "26435584/26421880 [==============================] - 0s 0us/step\n",
            "Downloading data from https://storage.googleapis.com/tensorflow/tf-keras-datasets/t10k-labels-idx1-ubyte.gz\n",
            "16384/5148 [===============================================================================================] - 0s 0us/step\n",
            "Downloading data from https://storage.googleapis.com/tensorflow/tf-keras-datasets/t10k-images-idx3-ubyte.gz\n",
            "4423680/4422102 [==============================] - 0s 0us/step\n",
            "4431872/4422102 [==============================] - 0s 0us/step\n"
          ]
        }
      ]
    },
    {
      "cell_type": "code",
      "source": [
        "train_images.shape"
      ],
      "metadata": {
        "colab": {
          "base_uri": "https://localhost:8080/"
        },
        "id": "GPCIsJWzeaOb",
        "outputId": "3a5abace-c62c-4743-f9b5-e319c33765c8"
      },
      "execution_count": 5,
      "outputs": [
        {
          "output_type": "execute_result",
          "data": {
            "text/plain": [
              "(60000, 28, 28)"
            ]
          },
          "metadata": {},
          "execution_count": 5
        }
      ]
    },
    {
      "cell_type": "code",
      "source": [
        "train_labels.shape"
      ],
      "metadata": {
        "colab": {
          "base_uri": "https://localhost:8080/"
        },
        "id": "P-ge4KGNegME",
        "outputId": "6ddbe52b-4451-41aa-8ae5-1660a8242095"
      },
      "execution_count": 6,
      "outputs": [
        {
          "output_type": "execute_result",
          "data": {
            "text/plain": [
              "(60000,)"
            ]
          },
          "metadata": {},
          "execution_count": 6
        }
      ]
    },
    {
      "cell_type": "code",
      "source": [
        "test_images.shape"
      ],
      "metadata": {
        "colab": {
          "base_uri": "https://localhost:8080/"
        },
        "id": "xAtONVqhelyz",
        "outputId": "5ee5858c-4a2d-4aad-89c4-8d121922003d"
      },
      "execution_count": 7,
      "outputs": [
        {
          "output_type": "execute_result",
          "data": {
            "text/plain": [
              "(10000, 28, 28)"
            ]
          },
          "metadata": {},
          "execution_count": 7
        }
      ]
    },
    {
      "cell_type": "code",
      "source": [
        "test_labels.shape"
      ],
      "metadata": {
        "colab": {
          "base_uri": "https://localhost:8080/"
        },
        "id": "_S8u5OZleodd",
        "outputId": "2a9e77b2-4b54-4ed3-a04e-c145b60168aa"
      },
      "execution_count": 8,
      "outputs": [
        {
          "output_type": "execute_result",
          "data": {
            "text/plain": [
              "(10000,)"
            ]
          },
          "metadata": {},
          "execution_count": 8
        }
      ]
    },
    {
      "cell_type": "code",
      "source": [
        "train_images[2]"
      ],
      "metadata": {
        "colab": {
          "base_uri": "https://localhost:8080/"
        },
        "id": "14JniswEeqUN",
        "outputId": "f1735ceb-41d4-4b71-ccba-b14177b1a914"
      },
      "execution_count": 9,
      "outputs": [
        {
          "output_type": "execute_result",
          "data": {
            "text/plain": [
              "array([[  0,   0,   0,   0,   0,   0,   0,   0,   0,  22, 118,  24,   0,\n",
              "          0,   0,   0,   0,  48,  88,   5,   0,   0,   0,   0,   0,   0,\n",
              "          0,   0],\n",
              "       [  0,   0,   0,   0,   0,   0,   0,   0,  12, 100, 212, 205, 185,\n",
              "        179, 173, 186, 193, 221, 142,  85,   0,   0,   0,   0,   0,   0,\n",
              "          0,   0],\n",
              "       [  0,   0,   0,   0,   0,   0,   0,   0,   0,  85,  76, 199, 225,\n",
              "        248, 255, 238, 226, 157,  68,  80,   0,   0,   0,   0,   0,   0,\n",
              "          0,   0],\n",
              "       [  0,   0,   0,   0,   0,   0,   0,   0,   0,  91,  69,  91, 201,\n",
              "        218, 225, 209, 158,  61,  93,  72,   0,   0,   0,   0,   0,   0,\n",
              "          0,   0],\n",
              "       [  0,   0,   0,   0,   0,   0,   0,   0,   0,  79,  89,  61,  59,\n",
              "         87, 108,  75,  56,  76,  97,  73,   0,   0,   0,   0,   0,   0,\n",
              "          0,   0],\n",
              "       [  0,   0,   0,   0,   0,   0,   0,   0,   0,  75,  89,  80,  80,\n",
              "         67,  63,  73,  83,  80,  96,  72,   0,   0,   0,   0,   0,   0,\n",
              "          0,   0],\n",
              "       [  0,   0,   0,   0,   0,   0,   0,   0,   0,  77,  88,  77,  80,\n",
              "         83,  83,  83,  83,  81,  95,  76,   0,   0,   0,   0,   0,   0,\n",
              "          0,   0],\n",
              "       [  0,   0,   0,   0,   0,   0,   0,   0,   0,  89,  96,  80,  83,\n",
              "         81,  84,  85,  85,  85,  97,  84,   0,   0,   0,   0,   0,   0,\n",
              "          0,   0],\n",
              "       [  0,   0,   0,   0,   0,   0,   0,   0,   0,  93,  97,  81,  85,\n",
              "         84,  85,  87,  88,  84,  99,  87,   0,   0,   0,   0,   0,   0,\n",
              "          0,   0],\n",
              "       [  0,   0,   0,   0,   0,   0,   0,   0,   0,  95,  87,  84,  87,\n",
              "         88,  85,  87,  87,  84,  92,  87,   0,   0,   0,   0,   0,   0,\n",
              "          0,   0],\n",
              "       [  0,   0,   0,   0,   0,   0,   0,   0,   0,  97,  87,  87,  85,\n",
              "         88,  87,  87,  87,  88,  85, 107,   0,   0,   0,   0,   0,   0,\n",
              "          0,   0],\n",
              "       [  0,   0,   0,   0,   0,   0,   0,   0,  17, 100,  88,  87,  87,\n",
              "         88,  87,  87,  85,  89,  77, 118,   8,   0,   0,   0,   0,   0,\n",
              "          0,   0],\n",
              "       [  0,   0,   0,   0,   0,   0,   0,   0,  10,  93,  87,  87,  87,\n",
              "         87,  87,  88,  87,  89,  80, 103,   0,   0,   0,   0,   0,   0,\n",
              "          0,   0],\n",
              "       [  0,   0,   0,   0,   0,   0,   0,   0,   9,  96,  87,  87,  87,\n",
              "         87,  87,  88,  87,  88,  87, 103,   0,   0,   0,   0,   0,   0,\n",
              "          0,   0],\n",
              "       [  0,   0,   0,   0,   0,   0,   0,   0,  12,  96,  85,  87,  87,\n",
              "         87,  85,  87,  87,  88,  89, 100,   2,   0,   0,   0,   0,   0,\n",
              "          0,   0],\n",
              "       [  0,   0,   0,   0,   0,   0,   0,   0,  20,  95,  84,  88,  85,\n",
              "         87,  88,  88,  88,  89,  88,  99,   8,   0,   0,   0,   0,   0,\n",
              "          0,   0],\n",
              "       [  0,   0,   0,   0,   0,   0,   0,   0,  21,  96,  85,  87,  85,\n",
              "         88,  88,  88,  88,  89,  89,  99,  10,   0,   0,   0,   0,   0,\n",
              "          0,   0],\n",
              "       [  0,   0,   0,   0,   0,   0,   0,   0,  24,  96,  85,  87,  85,\n",
              "         87,  88,  88,  89,  88,  91, 102,  14,   0,   0,   0,   0,   0,\n",
              "          0,   0],\n",
              "       [  0,   0,   0,   0,   0,   0,   0,   0,  25,  93,  84,  88,  87,\n",
              "         87,  87,  87,  87,  89,  91, 103,  29,   0,   0,   0,   0,   0,\n",
              "          0,   0],\n",
              "       [  0,   0,   0,   0,   0,   0,   0,   0,  30,  95,  85,  88,  88,\n",
              "         87,  87,  87,  87,  89,  88, 102,  37,   0,   0,   0,   0,   0,\n",
              "          0,   0],\n",
              "       [  0,   0,   0,   0,   0,   0,   0,   0,  34,  96,  88,  87,  87,\n",
              "         87,  87,  87,  87,  85,  85,  97,  38,   0,   0,   0,   0,   0,\n",
              "          0,   0],\n",
              "       [  0,   0,   0,   0,   0,   0,   0,   0,  40,  96,  87,  85,  87,\n",
              "         87,  87,  87,  87,  85,  84,  92,  49,   0,   0,   0,   0,   0,\n",
              "          0,   0],\n",
              "       [  0,   0,   0,   0,   0,   0,   0,   0,  46,  95,  83,  84,  87,\n",
              "         87,  87,  87,  87,  87,  84,  87,  84,   0,   0,   0,   0,   0,\n",
              "          0,   0],\n",
              "       [  0,   0,   0,   0,   0,   0,   0,   0,  72,  95,  85,  84,  85,\n",
              "         88,  87,  87,  89,  87,  85,  83,  63,   0,   0,   0,   0,   0,\n",
              "          0,   0],\n",
              "       [  0,   0,   0,   0,   0,   0,   0,   0,  64, 100,  84,  87,  88,\n",
              "         85,  88,  88,  84,  87,  83,  95,  53,   0,   0,   0,   0,   0,\n",
              "          0,   0],\n",
              "       [  0,   0,   0,   0,   0,   0,   0,   0,  10, 102, 100,  91,  91,\n",
              "         89,  85,  84,  84,  87, 108, 106,  14,   0,   0,   0,   0,   0,\n",
              "          0,   0],\n",
              "       [  0,   0,   0,   0,   0,   0,   0,   0,   0,   8,  73,  93, 104,\n",
              "        107, 103, 103, 106, 102,  75,  10,   0,   0,   0,   0,   0,   0,\n",
              "          0,   0],\n",
              "       [  0,   0,   0,   0,   0,   0,   0,   0,   1,   0,   0,   0,  18,\n",
              "         42,  57,  56,  32,   8,   0,   0,   1,   0,   0,   0,   0,   0,\n",
              "          0,   0]], dtype=uint8)"
            ]
          },
          "metadata": {},
          "execution_count": 9
        }
      ]
    },
    {
      "cell_type": "code",
      "source": [
        "train_labels[2]"
      ],
      "metadata": {
        "colab": {
          "base_uri": "https://localhost:8080/"
        },
        "id": "YhW32ifyeuO8",
        "outputId": "b8e9ce1f-6d13-49fd-a09a-4ed1a8c72fc3"
      },
      "execution_count": 10,
      "outputs": [
        {
          "output_type": "execute_result",
          "data": {
            "text/plain": [
              "0"
            ]
          },
          "metadata": {},
          "execution_count": 10
        }
      ]
    },
    {
      "cell_type": "code",
      "source": [
        "plt.imshow(train_images[1],cmap='gray_r')\n",
        "plt.title(train_labels[1])"
      ],
      "metadata": {
        "colab": {
          "base_uri": "https://localhost:8080/",
          "height": 298
        },
        "id": "S0S6bWTPezP_",
        "outputId": "632d1216-9101-4693-e55a-98f104f4ddc2"
      },
      "execution_count": 11,
      "outputs": [
        {
          "output_type": "execute_result",
          "data": {
            "text/plain": [
              "Text(0.5, 1.0, '0')"
            ]
          },
          "metadata": {},
          "execution_count": 11
        },
        {
          "output_type": "display_data",
          "data": {
            "text/plain": [
              "<Figure size 432x288 with 1 Axes>"
            ],
            "image/png": "[encoded data removed]"
          },
          "metadata": {
            "needs_background": "light"
          }
        }
      ]
    },
    {
      "cell_type": "code",
      "source": [
        "train_labels"
      ],
      "metadata": {
        "colab": {
          "base_uri": "https://localhost:8080/"
        },
        "id": "TRiNCFLdfEU_",
        "outputId": "89cdacea-8c3f-42fb-969f-9a994681ec2e"
      },
      "execution_count": 12,
      "outputs": [
        {
          "output_type": "execute_result",
          "data": {
            "text/plain": [
              "array([9, 0, 0, ..., 3, 0, 5], dtype=uint8)"
            ]
          },
          "metadata": {},
          "execution_count": 12
        }
      ]
    },
    {
      "cell_type": "code",
      "source": [
        "class_names=['T-Shirt/Top','Trouser','Pullover','Dress','Coat','Sandal','Shirt','Snekar','Bag','Ankle boot'] # create list"
      ],
      "metadata": {
        "id": "3GqMMukxfd5a"
      },
      "execution_count": 13,
      "outputs": []
    },
    {
      "cell_type": "code",
      "source": [
        "class_names"
      ],
      "metadata": {
        "colab": {
          "base_uri": "https://localhost:8080/"
        },
        "id": "sKxrD7mFfzGG",
        "outputId": "0f335cb4-02e2-4fee-cfeb-b017dc128643"
      },
      "execution_count": 14,
      "outputs": [
        {
          "output_type": "execute_result",
          "data": {
            "text/plain": [
              "['T-Shirt/Top',\n",
              " 'Trouser',\n",
              " 'Pullover',\n",
              " 'Dress',\n",
              " 'Coat',\n",
              " 'Sandal',\n",
              " 'Shirt',\n",
              " 'Snekar',\n",
              " 'Bag',\n",
              " 'Ankle boot']"
            ]
          },
          "metadata": {},
          "execution_count": 14
        }
      ]
    },
    {
      "cell_type": "code",
      "source": [
        "class_names[7]"
      ],
      "metadata": {
        "colab": {
          "base_uri": "https://localhost:8080/",
          "height": 35
        },
        "id": "4JHQu_hef2UY",
        "outputId": "6c3e6845-20e8-4c6a-cdfe-4b24478cf52d"
      },
      "execution_count": 15,
      "outputs": [
        {
          "output_type": "execute_result",
          "data": {
            "text/plain": [
              "'Snekar'"
            ],
            "application/vnd.google.colaboratory.intrinsic+json": {
              "type": "string"
            }
          },
          "metadata": {},
          "execution_count": 15
        }
      ]
    },
    {
      "cell_type": "code",
      "source": [
        "class_names[2]"
      ],
      "metadata": {
        "colab": {
          "base_uri": "https://localhost:8080/",
          "height": 35
        },
        "id": "rMUqPGKjf_AE",
        "outputId": "984a47fe-79e7-4525-cdf1-5cf25e806862"
      },
      "execution_count": 16,
      "outputs": [
        {
          "output_type": "execute_result",
          "data": {
            "text/plain": [
              "'Pullover'"
            ],
            "application/vnd.google.colaboratory.intrinsic+json": {
              "type": "string"
            }
          },
          "metadata": {},
          "execution_count": 16
        }
      ]
    },
    {
      "cell_type": "code",
      "source": [
        "train_labels[2]"
      ],
      "metadata": {
        "colab": {
          "base_uri": "https://localhost:8080/"
        },
        "id": "nQEHLrT6gCv3",
        "outputId": "7cb9c526-2c89-4fbb-8a0f-44961700ba40"
      },
      "execution_count": 17,
      "outputs": [
        {
          "output_type": "execute_result",
          "data": {
            "text/plain": [
              "0"
            ]
          },
          "metadata": {},
          "execution_count": 17
        }
      ]
    },
    {
      "cell_type": "code",
      "source": [
        "class_names[train_labels[2]]"
      ],
      "metadata": {
        "colab": {
          "base_uri": "https://localhost:8080/",
          "height": 35
        },
        "id": "GL4l-CMhgJDW",
        "outputId": "1d626b62-47a5-4e27-f355-abc460d10dca"
      },
      "execution_count": 18,
      "outputs": [
        {
          "output_type": "execute_result",
          "data": {
            "text/plain": [
              "'T-Shirt/Top'"
            ],
            "application/vnd.google.colaboratory.intrinsic+json": {
              "type": "string"
            }
          },
          "metadata": {},
          "execution_count": 18
        }
      ]
    },
    {
      "cell_type": "code",
      "source": [
        "plt.figure(figsize=(10,10))\n",
        "for i in range (25):\n",
        "  plt.subplot(5,5,i+1)\n",
        "  plt.xticks([])\n",
        "  plt.yticks([])\n",
        "  plt.grid(False)\n",
        "  plt.imshow(train_images[i],cmap=plt.cm.binary)\n",
        "  plt.xlabel(class_names[train_labels[i]])\n",
        "plt.show()"
      ],
      "metadata": {
        "colab": {
          "base_uri": "https://localhost:8080/",
          "height": 589
        },
        "id": "PYKvXt80gSt_",
        "outputId": "92f01baf-9a70-4f71-9323-959bb76af8c4"
      },
      "execution_count": 19,
      "outputs": [
        {
          "output_type": "display_data",
          "data": {
            "text/plain": [
              "<Figure size 720x720 with 25 Axes>"
            ],
            "image/png": "[encoded data removed]"
          },
          "metadata": {}
        }
      ]
    },
    {
      "cell_type": "code",
      "source": [
        "train_images=train_images/255.0\n",
        "test_images=test_images/255.0"
      ],
      "metadata": {
        "id": "J41-OhTihMcs"
      },
      "execution_count": 20,
      "outputs": []
    },
    {
      "cell_type": "code",
      "source": [
        "model = keras.Sequential([\n",
        "                          keras.layers.Flatten(input_shape=(28,28)),\n",
        "                          keras.layers.Dense(512,activation='relu'),\n",
        "                          keras.layers.Dense(10,'softmax')\n",
        "])"
      ],
      "metadata": {
        "id": "pHMtfpS0hiKW"
      },
      "execution_count": 21,
      "outputs": []
    },
    {
      "cell_type": "code",
      "source": [
        "model.summary()"
      ],
      "metadata": {
        "id": "xhj_0XqgiCaB",
        "colab": {
          "base_uri": "https://localhost:8080/"
        },
        "outputId": "fc57c7cb-3ff0-4948-a20d-cf35a45cf984"
      },
      "execution_count": 22,
      "outputs": [
        {
          "output_type": "stream",
          "name": "stdout",
          "text": [
            "Model: \"sequential\"\n",
            "_________________________________________________________________\n",
            " Layer (type)                Output Shape              Param #   \n",
            "=================================================================\n",
            " flatten (Flatten)           (None, 784)               0         \n",
            "                                                                 \n",
            " dense (Dense)               (None, 512)               401920    \n",
            "                                                                 \n",
            " dense_1 (Dense)             (None, 10)                5130      \n",
            "                                                                 \n",
            "=================================================================\n",
            "Total params: 407,050\n",
            "Trainable params: 407,050\n",
            "Non-trainable params: 0\n",
            "_________________________________________________________________\n"
          ]
        }
      ]
    },
    {
      "cell_type": "code",
      "source": [
        "model.compile(optimizer='adam',loss=tf.keras.losses.SparseCategoricalCrossentropy(from_logits=True),metrics=['accuracy'])"
      ],
      "metadata": {
        "id": "bt2fyvwmiMfz"
      },
      "execution_count": 23,
      "outputs": []
    },
    {
      "cell_type": "code",
      "source": [
        "history = model.fit(train_images,train_labels,validation_split=0.2,epochs=15,verbose=1)"
      ],
      "metadata": {
        "id": "WbIDlG03iq-e",
        "colab": {
          "base_uri": "https://localhost:8080/"
        },
        "outputId": "ae601583-e232-4246-8049-f7a33a28e560"
      },
      "execution_count": 24,
      "outputs": [
        {
          "output_type": "stream",
          "name": "stdout",
          "text": [
            "Epoch 1/15\n"
          ]
        },
        {
          "output_type": "stream",
          "name": "stderr",
          "text": [
            "/usr/local/lib/python3.7/dist-packages/tensorflow/python/util/dispatch.py:1082: UserWarning: \"`sparse_categorical_crossentropy` received `from_logits=True`, but the `output` argument was produced by a sigmoid or softmax activation and thus does not represent logits. Was this intended?\"\n",
            "  return dispatch_target(*args, **kwargs)\n"
          ]
        },
        {
          "output_type": "stream",
          "name": "stdout",
          "text": [
            "1500/1500 [==============================] - 7s 4ms/step - loss: 0.4928 - accuracy: 0.8245 - val_loss: 0.4053 - val_accuracy: 0.8542\n",
            "Epoch 2/15\n",
            "1500/1500 [==============================] - 6s 4ms/step - loss: 0.3726 - accuracy: 0.8634 - val_loss: 0.3653 - val_accuracy: 0.8672\n",
            "Epoch 3/15\n",
            "1500/1500 [==============================] - 6s 4ms/step - loss: 0.3327 - accuracy: 0.8772 - val_loss: 0.3381 - val_accuracy: 0.8783\n",
            "Epoch 4/15\n",
            "1500/1500 [==============================] - 6s 4ms/step - loss: 0.3061 - accuracy: 0.8860 - val_loss: 0.3472 - val_accuracy: 0.8705\n",
            "Epoch 5/15\n",
            "1500/1500 [==============================] - 6s 4ms/step - loss: 0.2859 - accuracy: 0.8926 - val_loss: 0.3316 - val_accuracy: 0.8823\n",
            "Epoch 6/15\n",
            "1500/1500 [==============================] - 6s 4ms/step - loss: 0.2694 - accuracy: 0.9000 - val_loss: 0.3131 - val_accuracy: 0.8864\n",
            "Epoch 7/15\n",
            "1500/1500 [==============================] - 6s 4ms/step - loss: 0.2544 - accuracy: 0.9055 - val_loss: 0.3233 - val_accuracy: 0.8843\n",
            "Epoch 8/15\n",
            "1500/1500 [==============================] - 6s 4ms/step - loss: 0.2447 - accuracy: 0.9084 - val_loss: 0.3187 - val_accuracy: 0.8880\n",
            "Epoch 9/15\n",
            "1500/1500 [==============================] - 6s 4ms/step - loss: 0.2314 - accuracy: 0.9140 - val_loss: 0.3195 - val_accuracy: 0.8893\n",
            "Epoch 10/15\n",
            "1500/1500 [==============================] - 6s 4ms/step - loss: 0.2221 - accuracy: 0.9166 - val_loss: 0.3239 - val_accuracy: 0.8895\n",
            "Epoch 11/15\n",
            "1500/1500 [==============================] - 6s 4ms/step - loss: 0.2132 - accuracy: 0.9209 - val_loss: 0.3037 - val_accuracy: 0.8956\n",
            "Epoch 12/15\n",
            "1500/1500 [==============================] - 6s 4ms/step - loss: 0.2064 - accuracy: 0.9230 - val_loss: 0.3151 - val_accuracy: 0.8918\n",
            "Epoch 13/15\n",
            "1500/1500 [==============================] - 6s 4ms/step - loss: 0.1979 - accuracy: 0.9250 - val_loss: 0.3325 - val_accuracy: 0.8880\n",
            "Epoch 14/15\n",
            "1500/1500 [==============================] - 6s 4ms/step - loss: 0.1924 - accuracy: 0.9278 - val_loss: 0.3333 - val_accuracy: 0.8937\n",
            "Epoch 15/15\n",
            "1500/1500 [==============================] - 6s 4ms/step - loss: 0.1865 - accuracy: 0.9300 - val_loss: 0.3491 - val_accuracy: 0.8880\n"
          ]
        }
      ]
    },
    {
      "cell_type": "code",
      "source": [
        "history.history"
      ],
      "metadata": {
        "id": "f7BeSn8Xj_jB",
        "colab": {
          "base_uri": "https://localhost:8080/"
        },
        "outputId": "9445c186-f819-40ad-d4f6-9fb048851f5e"
      },
      "execution_count": 25,
      "outputs": [
        {
          "output_type": "execute_result",
          "data": {
            "text/plain": [
              "{'accuracy': [0.8244583606719971,\n",
              "  0.8634166717529297,\n",
              "  0.8772291541099548,\n",
              "  0.885979175567627,\n",
              "  0.8926041722297668,\n",
              "  0.9000416398048401,\n",
              "  0.9054791927337646,\n",
              "  0.9084374904632568,\n",
              "  0.9139999747276306,\n",
              "  0.9166041612625122,\n",
              "  0.9209374785423279,\n",
              "  0.9229583144187927,\n",
              "  0.925000011920929,\n",
              "  0.9277708530426025,\n",
              "  0.9299583435058594],\n",
              " 'loss': [0.49279841780662537,\n",
              "  0.3725753724575043,\n",
              "  0.3327338993549347,\n",
              "  0.3061215877532959,\n",
              "  0.28593531250953674,\n",
              "  0.26940351724624634,\n",
              "  0.2543748915195465,\n",
              "  0.24465212225914001,\n",
              "  0.2314329892396927,\n",
              "  0.22214603424072266,\n",
              "  0.213155135512352,\n",
              "  0.2063540816307068,\n",
              "  0.19787532091140747,\n",
              "  0.19236843287944794,\n",
              "  0.1864808201789856],\n",
              " 'val_accuracy': [0.8541666865348816,\n",
              "  0.8671666383743286,\n",
              "  0.878333330154419,\n",
              "  0.8705000281333923,\n",
              "  0.8823333382606506,\n",
              "  0.8864166736602783,\n",
              "  0.8843333125114441,\n",
              "  0.8880000114440918,\n",
              "  0.8893333077430725,\n",
              "  0.8895000219345093,\n",
              "  0.8955833315849304,\n",
              "  0.8918333053588867,\n",
              "  0.8880000114440918,\n",
              "  0.893666684627533,\n",
              "  0.8880000114440918],\n",
              " 'val_loss': [0.4052622616291046,\n",
              "  0.365312784910202,\n",
              "  0.3380615711212158,\n",
              "  0.3471997082233429,\n",
              "  0.33160555362701416,\n",
              "  0.31312647461891174,\n",
              "  0.32334980368614197,\n",
              "  0.31868818402290344,\n",
              "  0.3194502890110016,\n",
              "  0.3239133059978485,\n",
              "  0.30373716354370117,\n",
              "  0.3150548040866852,\n",
              "  0.33245936036109924,\n",
              "  0.33334481716156006,\n",
              "  0.3490505814552307]}"
            ]
          },
          "metadata": {},
          "execution_count": 25
        }
      ]
    },
    {
      "cell_type": "code",
      "source": [
        "epochs = 15\n",
        "acc = history.history['accuracy']\n",
        "Val_acc = history.history['val_accuracy']\n",
        "\n",
        "loss = history.history['loss']\n",
        "Val_loss = history.history['val_loss']\n",
        "\n",
        "epochs_range = range(epochs)\n",
        "\n",
        "plt.figure(figsize=(8,4))\n",
        "plt.subplot(1,2,1)\n",
        "plt.plot(epochs_range,acc,label='Training Accuracy')\n",
        "plt.plot(epochs_range,Val_acc,label='Validation Acuuracy')\n",
        "\n",
        "plt.legend(loc='lower right')\n",
        "plt.title('Trainig and Validation Accuracy')\n",
        "\n",
        "\n",
        "plt.subplot(1,2,2)\n",
        "plt.plot(epochs_range,loss,label='Trainig Loss')\n",
        "plt.plot(epochs_range,Val_loss,label='validation Loss')\n",
        "plt.legend(loc='upper right')\n",
        "plt.title('Traing And Validation Loss')\n",
        "plt.show()"
      ],
      "metadata": {
        "id": "lNiUd1xNkpEv",
        "colab": {
          "base_uri": "https://localhost:8080/",
          "height": 281
        },
        "outputId": "988dc503-4ced-49d4-9912-1a8d27d50d6e"
      },
      "execution_count": 26,
      "outputs": [
        {
          "output_type": "display_data",
          "data": {
            "text/plain": [
              "<Figure size 576x288 with 2 Axes>"
            ],
            "image/png": "[encoded data removed]"
          },
          "metadata": {
            "needs_background": "light"
          }
        }
      ]
    },
    {
      "cell_type": "code",
      "source": [
        "#call Back Early Stopping"
      ],
      "metadata": {
        "id": "S2Md1MYJmmYC"
      },
      "execution_count": null,
      "outputs": []
    },
    {
      "cell_type": "code",
      "source": [
        "model_new = keras.Sequential([\n",
        "                              keras.layers.Flatten(input_shape=(28,28)),\n",
        "                              keras.layers.Dense(512,activation='relu'),\n",
        "                              keras.layers.Dense(10,'softmax')\n",
        "])"
      ],
      "metadata": {
        "id": "7nnRdvNtngHE"
      },
      "execution_count": 27,
      "outputs": []
    },
    {
      "cell_type": "code",
      "source": [
        "model_new.compile(optimizer='adam',loss=tf.keras.losses.SparseCategoricalCrossentropy(from_logits=True),metrics=['accuracy'])"
      ],
      "metadata": {
        "id": "9RdS7rLroLWI"
      },
      "execution_count": 28,
      "outputs": []
    },
    {
      "cell_type": "code",
      "source": [
        "callback = keras.callbacks.EarlyStopping(monitor='val_loss',patience=3)"
      ],
      "metadata": {
        "id": "Px7uRs36ogkW"
      },
      "execution_count": 29,
      "outputs": []
    },
    {
      "cell_type": "code",
      "source": [
        "history = model_new.fit(train_images,train_labels,epochs=15,validation_split=0.2,callbacks=callback,verbose=1)"
      ],
      "metadata": {
        "colab": {
          "base_uri": "https://localhost:8080/"
        },
        "id": "zDECO7H2o0i8",
        "outputId": "24f4271d-77e1-49f7-8763-a4416fbd715a"
      },
      "execution_count": 30,
      "outputs": [
        {
          "output_type": "stream",
          "name": "stdout",
          "text": [
            "Epoch 1/15\n"
          ]
        },
        {
          "output_type": "stream",
          "name": "stderr",
          "text": [
            "/usr/local/lib/python3.7/dist-packages/tensorflow/python/util/dispatch.py:1082: UserWarning: \"`sparse_categorical_crossentropy` received `from_logits=True`, but the `output` argument was produced by a sigmoid or softmax activation and thus does not represent logits. Was this intended?\"\n",
            "  return dispatch_target(*args, **kwargs)\n"
          ]
        },
        {
          "output_type": "stream",
          "name": "stdout",
          "text": [
            "1500/1500 [==============================] - 7s 4ms/step - loss: 0.4916 - accuracy: 0.8241 - val_loss: 0.4086 - val_accuracy: 0.8555\n",
            "Epoch 2/15\n",
            "1500/1500 [==============================] - 6s 4ms/step - loss: 0.3709 - accuracy: 0.8654 - val_loss: 0.4220 - val_accuracy: 0.8460\n",
            "Epoch 3/15\n",
            "1500/1500 [==============================] - 7s 5ms/step - loss: 0.3281 - accuracy: 0.8791 - val_loss: 0.3435 - val_accuracy: 0.8753\n",
            "Epoch 4/15\n",
            "1500/1500 [==============================] - 7s 5ms/step - loss: 0.3040 - accuracy: 0.8861 - val_loss: 0.3361 - val_accuracy: 0.8759\n",
            "Epoch 5/15\n",
            "1500/1500 [==============================] - 6s 4ms/step - loss: 0.2852 - accuracy: 0.8934 - val_loss: 0.3250 - val_accuracy: 0.8818\n",
            "Epoch 6/15\n",
            "1500/1500 [==============================] - 6s 4ms/step - loss: 0.2699 - accuracy: 0.8992 - val_loss: 0.3282 - val_accuracy: 0.8813\n",
            "Epoch 7/15\n",
            "1500/1500 [==============================] - 6s 4ms/step - loss: 0.2566 - accuracy: 0.9050 - val_loss: 0.3142 - val_accuracy: 0.8858\n",
            "Epoch 8/15\n",
            "1500/1500 [==============================] - 6s 4ms/step - loss: 0.2462 - accuracy: 0.9089 - val_loss: 0.3079 - val_accuracy: 0.8909\n",
            "Epoch 9/15\n",
            "1500/1500 [==============================] - 6s 4ms/step - loss: 0.2360 - accuracy: 0.9119 - val_loss: 0.3258 - val_accuracy: 0.8851\n",
            "Epoch 10/15\n",
            "1500/1500 [==============================] - 6s 4ms/step - loss: 0.2217 - accuracy: 0.9165 - val_loss: 0.3229 - val_accuracy: 0.8869\n",
            "Epoch 11/15\n",
            "1500/1500 [==============================] - 6s 4ms/step - loss: 0.2152 - accuracy: 0.9186 - val_loss: 0.3137 - val_accuracy: 0.8957\n"
          ]
        }
      ]
    },
    {
      "cell_type": "code",
      "source": [
        "epochs = 11\n",
        "acc = history.history['accuracy']\n",
        "Val_acc = history.history['val_accuracy']\n",
        "\n",
        "loss = history.history['loss']\n",
        "Val_loss = history.history['val_loss']\n",
        "\n",
        "epochs_range = range(epochs)\n",
        "\n",
        "plt.figure(figsize=(8,4))\n",
        "plt.subplot(1,2,1)\n",
        "plt.plot(epochs_range,acc,label='Training Accuracy')\n",
        "plt.plot(epochs_range,Val_acc,label='Validation Acuuracy')\n",
        "\n",
        "plt.legend(loc='lower right')\n",
        "plt.title('Trainig and Validation Accuracy')\n",
        "\n",
        "\n",
        "plt.subplot(1,2,2)\n",
        "plt.plot(epochs_range,loss,label='Trainig Loss')\n",
        "plt.plot(epochs_range,Val_loss,label='validation Loss')\n",
        "plt.legend(loc='upper right')\n",
        "plt.title('Traing And Validation Loss')\n",
        "plt.show()"
      ],
      "metadata": {
        "colab": {
          "base_uri": "https://localhost:8080/",
          "height": 281
        },
        "id": "6HA3SwfjpJTH",
        "outputId": "02486b1f-dcd7-49a0-fea2-4e5aa5932e0a"
      },
      "execution_count": 32,
      "outputs": [
        {
          "output_type": "display_data",
          "data": {
            "text/plain": [
              "<Figure size 576x288 with 2 Axes>"
            ],
            "image/png": "[encoded data removed]"
          },
          "metadata": {
            "needs_background": "light"
          }
        }
      ]
    },
    {
      "cell_type": "code",
      "source": [
        ""
      ],
      "metadata": {
        "id": "oJMYX4KFWfQJ"
      },
      "execution_count": null,
      "outputs": []
    }
  ]
}