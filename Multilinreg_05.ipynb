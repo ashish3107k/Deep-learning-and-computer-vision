{
  "nbformat": 4,
  "nbformat_minor": 0,
  "metadata": {
    "colab": {
      "name": "06_01.ipynb",
      "provenance": []
    },
    "kernelspec": {
      "name": "python3",
      "display_name": "Python 3"
    },
    "language_info": {
      "name": "python"
    }
  },
  "cells": [
    {
      "cell_type": "code",
      "execution_count": 1,
      "metadata": {
        "id": "9tZDnEHVVrtc"
      },
      "outputs": [],
      "source": [
        "import numpy as np\n",
        "import pandas as pd\n",
        "import matplotlib.pyplot as plt\n",
        "import seaborn as sns\n",
        "import tensorflow as tf"
      ]
    },
    {
      "cell_type": "code",
      "source": [
        "from sklearn.datasets import load_boston"
      ],
      "metadata": {
        "id": "XmSc7vx8WNPC"
      },
      "execution_count": 2,
      "outputs": []
    },
    {
      "cell_type": "code",
      "source": [
        "df = load_boston()"
      ],
      "metadata": {
        "colab": {
          "base_uri": "https://localhost:8080/"
        },
        "id": "UEoR07XdWaLg",
        "outputId": "2a3dda04-cd82-4430-b778-684bb8f8cfce"
      },
      "execution_count": 3,
      "outputs": [
        {
          "output_type": "stream",
          "name": "stderr",
          "text": [
            "/usr/local/lib/python3.7/dist-packages/sklearn/utils/deprecation.py:87: FutureWarning: Function load_boston is deprecated; `load_boston` is deprecated in 1.0 and will be removed in 1.2.\n",
            "\n",
            "    The Boston housing prices dataset has an ethical problem. You can refer to\n",
            "    the documentation of this function for further details.\n",
            "\n",
            "    The scikit-learn maintainers therefore strongly discourage the use of this\n",
            "    dataset unless the purpose of the code is to study and educate about\n",
            "    ethical issues in data science and machine learning.\n",
            "\n",
            "    In this special case, you can fetch the dataset from the original\n",
            "    source::\n",
            "\n",
            "        import pandas as pd\n",
            "        import numpy as np\n",
            "\n",
            "\n",
            "        data_url = \"http://lib.stat.cmu.edu/datasets/boston\"\n",
            "        raw_df = pd.read_csv(data_url, sep=\"\\s+\", skiprows=22, header=None)\n",
            "        data = np.hstack([raw_df.values[::2, :], raw_df.values[1::2, :2]])\n",
            "        target = raw_df.values[1::2, 2]\n",
            "\n",
            "    Alternative datasets include the California housing dataset (i.e.\n",
            "    :func:`~sklearn.datasets.fetch_california_housing`) and the Ames housing\n",
            "    dataset. You can load the datasets as follows::\n",
            "\n",
            "        from sklearn.datasets import fetch_california_housing\n",
            "        housing = fetch_california_housing()\n",
            "\n",
            "    for the California housing dataset and::\n",
            "\n",
            "        from sklearn.datasets import fetch_openml\n",
            "        housing = fetch_openml(name=\"house_prices\", as_frame=True)\n",
            "\n",
            "    for the Ames housing dataset.\n",
            "    \n",
            "  warnings.warn(msg, category=FutureWarning)\n"
          ]
        }
      ]
    },
    {
      "cell_type": "code",
      "source": [
        "df"
      ],
      "metadata": {
        "colab": {
          "base_uri": "https://localhost:8080/"
        },
        "id": "THAF_w4EWdt4",
        "outputId": "feaef635-6cd4-47cf-fe94-b65a01e8095b"
      },
      "execution_count": 4,
      "outputs": [
        {
          "output_type": "execute_result",
          "data": {
            "text/plain": [
              "{'DESCR': \".. _boston_dataset:\\n\\nBoston house prices dataset\\n---------------------------\\n\\n**Data Set Characteristics:**  \\n\\n    :Number of Instances: 506 \\n\\n    :Number of Attributes: 13 numeric/categorical predictive. Median Value (attribute 14) is usually the target.\\n\\n    :Attribute Information (in order):\\n        - CRIM     per capita crime rate by town\\n        - ZN       proportion of residential land zoned for lots over 25,000 sq.ft.\\n        - INDUS    proportion of non-retail business acres per town\\n        - CHAS     Charles River dummy variable (= 1 if tract bounds river; 0 otherwise)\\n        - NOX      nitric oxides concentration (parts per 10 million)\\n        - RM       average number of rooms per dwelling\\n        - AGE      proportion of owner-occupied units built prior to 1940\\n        - DIS      weighted distances to five Boston employment centres\\n        - RAD      index of accessibility to radial highways\\n        - TAX      full-value property-tax rate per $10,000\\n        - PTRATIO  pupil-teacher ratio by town\\n        - B        1000(Bk - 0.63)^2 where Bk is the proportion of black people by town\\n        - LSTAT    % lower status of the population\\n        - MEDV     Median value of owner-occupied homes in $1000's\\n\\n    :Missing Attribute Values: None\\n\\n    :Creator: Harrison, D. and Rubinfeld, D.L.\\n\\nThis is a copy of UCI ML housing dataset.\\nhttps://archive.ics.uci.edu/ml/machine-learning-databases/housing/\\n\\n\\nThis dataset was taken from the StatLib library which is maintained at Carnegie Mellon University.\\n\\nThe Boston house-price data of Harrison, D. and Rubinfeld, D.L. 'Hedonic\\nprices and the demand for clean air', J. Environ. Economics & Management,\\nvol.5, 81-102, 1978.   Used in Belsley, Kuh & Welsch, 'Regression diagnostics\\n...', Wiley, 1980.   N.B. Various transformations are used in the table on\\npages 244-261 of the latter.\\n\\nThe Boston house-price data has been used in many machine learning papers that address regression\\nproblems.   \\n     \\n.. topic:: References\\n\\n   - Belsley, Kuh & Welsch, 'Regression diagnostics: Identifying Influential Data and Sources of Collinearity', Wiley, 1980. 244-261.\\n   - Quinlan,R. (1993). Combining Instance-Based and Model-Based Learning. In Proceedings on the Tenth International Conference of Machine Learning, 236-243, University of Massachusetts, Amherst. Morgan Kaufmann.\\n\",\n",
              " 'data': array([[6.3200e-03, 1.8000e+01, 2.3100e+00, ..., 1.5300e+01, 3.9690e+02,\n",
              "         4.9800e+00],\n",
              "        [2.7310e-02, 0.0000e+00, 7.0700e+00, ..., 1.7800e+01, 3.9690e+02,\n",
              "         9.1400e+00],\n",
              "        [2.7290e-02, 0.0000e+00, 7.0700e+00, ..., 1.7800e+01, 3.9283e+02,\n",
              "         4.0300e+00],\n",
              "        ...,\n",
              "        [6.0760e-02, 0.0000e+00, 1.1930e+01, ..., 2.1000e+01, 3.9690e+02,\n",
              "         5.6400e+00],\n",
              "        [1.0959e-01, 0.0000e+00, 1.1930e+01, ..., 2.1000e+01, 3.9345e+02,\n",
              "         6.4800e+00],\n",
              "        [4.7410e-02, 0.0000e+00, 1.1930e+01, ..., 2.1000e+01, 3.9690e+02,\n",
              "         7.8800e+00]]),\n",
              " 'data_module': 'sklearn.datasets.data',\n",
              " 'feature_names': array(['CRIM', 'ZN', 'INDUS', 'CHAS', 'NOX', 'RM', 'AGE', 'DIS', 'RAD',\n",
              "        'TAX', 'PTRATIO', 'B', 'LSTAT'], dtype='<U7'),\n",
              " 'filename': 'boston_house_prices.csv',\n",
              " 'target': array([24. , 21.6, 34.7, 33.4, 36.2, 28.7, 22.9, 27.1, 16.5, 18.9, 15. ,\n",
              "        18.9, 21.7, 20.4, 18.2, 19.9, 23.1, 17.5, 20.2, 18.2, 13.6, 19.6,\n",
              "        15.2, 14.5, 15.6, 13.9, 16.6, 14.8, 18.4, 21. , 12.7, 14.5, 13.2,\n",
              "        13.1, 13.5, 18.9, 20. , 21. , 24.7, 30.8, 34.9, 26.6, 25.3, 24.7,\n",
              "        21.2, 19.3, 20. , 16.6, 14.4, 19.4, 19.7, 20.5, 25. , 23.4, 18.9,\n",
              "        35.4, 24.7, 31.6, 23.3, 19.6, 18.7, 16. , 22.2, 25. , 33. , 23.5,\n",
              "        19.4, 22. , 17.4, 20.9, 24.2, 21.7, 22.8, 23.4, 24.1, 21.4, 20. ,\n",
              "        20.8, 21.2, 20.3, 28. , 23.9, 24.8, 22.9, 23.9, 26.6, 22.5, 22.2,\n",
              "        23.6, 28.7, 22.6, 22. , 22.9, 25. , 20.6, 28.4, 21.4, 38.7, 43.8,\n",
              "        33.2, 27.5, 26.5, 18.6, 19.3, 20.1, 19.5, 19.5, 20.4, 19.8, 19.4,\n",
              "        21.7, 22.8, 18.8, 18.7, 18.5, 18.3, 21.2, 19.2, 20.4, 19.3, 22. ,\n",
              "        20.3, 20.5, 17.3, 18.8, 21.4, 15.7, 16.2, 18. , 14.3, 19.2, 19.6,\n",
              "        23. , 18.4, 15.6, 18.1, 17.4, 17.1, 13.3, 17.8, 14. , 14.4, 13.4,\n",
              "        15.6, 11.8, 13.8, 15.6, 14.6, 17.8, 15.4, 21.5, 19.6, 15.3, 19.4,\n",
              "        17. , 15.6, 13.1, 41.3, 24.3, 23.3, 27. , 50. , 50. , 50. , 22.7,\n",
              "        25. , 50. , 23.8, 23.8, 22.3, 17.4, 19.1, 23.1, 23.6, 22.6, 29.4,\n",
              "        23.2, 24.6, 29.9, 37.2, 39.8, 36.2, 37.9, 32.5, 26.4, 29.6, 50. ,\n",
              "        32. , 29.8, 34.9, 37. , 30.5, 36.4, 31.1, 29.1, 50. , 33.3, 30.3,\n",
              "        34.6, 34.9, 32.9, 24.1, 42.3, 48.5, 50. , 22.6, 24.4, 22.5, 24.4,\n",
              "        20. , 21.7, 19.3, 22.4, 28.1, 23.7, 25. , 23.3, 28.7, 21.5, 23. ,\n",
              "        26.7, 21.7, 27.5, 30.1, 44.8, 50. , 37.6, 31.6, 46.7, 31.5, 24.3,\n",
              "        31.7, 41.7, 48.3, 29. , 24. , 25.1, 31.5, 23.7, 23.3, 22. , 20.1,\n",
              "        22.2, 23.7, 17.6, 18.5, 24.3, 20.5, 24.5, 26.2, 24.4, 24.8, 29.6,\n",
              "        42.8, 21.9, 20.9, 44. , 50. , 36. , 30.1, 33.8, 43.1, 48.8, 31. ,\n",
              "        36.5, 22.8, 30.7, 50. , 43.5, 20.7, 21.1, 25.2, 24.4, 35.2, 32.4,\n",
              "        32. , 33.2, 33.1, 29.1, 35.1, 45.4, 35.4, 46. , 50. , 32.2, 22. ,\n",
              "        20.1, 23.2, 22.3, 24.8, 28.5, 37.3, 27.9, 23.9, 21.7, 28.6, 27.1,\n",
              "        20.3, 22.5, 29. , 24.8, 22. , 26.4, 33.1, 36.1, 28.4, 33.4, 28.2,\n",
              "        22.8, 20.3, 16.1, 22.1, 19.4, 21.6, 23.8, 16.2, 17.8, 19.8, 23.1,\n",
              "        21. , 23.8, 23.1, 20.4, 18.5, 25. , 24.6, 23. , 22.2, 19.3, 22.6,\n",
              "        19.8, 17.1, 19.4, 22.2, 20.7, 21.1, 19.5, 18.5, 20.6, 19. , 18.7,\n",
              "        32.7, 16.5, 23.9, 31.2, 17.5, 17.2, 23.1, 24.5, 26.6, 22.9, 24.1,\n",
              "        18.6, 30.1, 18.2, 20.6, 17.8, 21.7, 22.7, 22.6, 25. , 19.9, 20.8,\n",
              "        16.8, 21.9, 27.5, 21.9, 23.1, 50. , 50. , 50. , 50. , 50. , 13.8,\n",
              "        13.8, 15. , 13.9, 13.3, 13.1, 10.2, 10.4, 10.9, 11.3, 12.3,  8.8,\n",
              "         7.2, 10.5,  7.4, 10.2, 11.5, 15.1, 23.2,  9.7, 13.8, 12.7, 13.1,\n",
              "        12.5,  8.5,  5. ,  6.3,  5.6,  7.2, 12.1,  8.3,  8.5,  5. , 11.9,\n",
              "        27.9, 17.2, 27.5, 15. , 17.2, 17.9, 16.3,  7. ,  7.2,  7.5, 10.4,\n",
              "         8.8,  8.4, 16.7, 14.2, 20.8, 13.4, 11.7,  8.3, 10.2, 10.9, 11. ,\n",
              "         9.5, 14.5, 14.1, 16.1, 14.3, 11.7, 13.4,  9.6,  8.7,  8.4, 12.8,\n",
              "        10.5, 17.1, 18.4, 15.4, 10.8, 11.8, 14.9, 12.6, 14.1, 13. , 13.4,\n",
              "        15.2, 16.1, 17.8, 14.9, 14.1, 12.7, 13.5, 14.9, 20. , 16.4, 17.7,\n",
              "        19.5, 20.2, 21.4, 19.9, 19. , 19.1, 19.1, 20.1, 19.9, 19.6, 23.2,\n",
              "        29.8, 13.8, 13.3, 16.7, 12. , 14.6, 21.4, 23. , 23.7, 25. , 21.8,\n",
              "        20.6, 21.2, 19.1, 20.6, 15.2,  7. ,  8.1, 13.6, 20.1, 21.8, 24.5,\n",
              "        23.1, 19.7, 18.3, 21.2, 17.5, 16.8, 22.4, 20.6, 23.9, 22. , 11.9])}"
            ]
          },
          "metadata": {},
          "execution_count": 4
        }
      ]
    },
    {
      "cell_type": "code",
      "source": [
        "x = df.data"
      ],
      "metadata": {
        "id": "-LmHmbKRWeX-"
      },
      "execution_count": 5,
      "outputs": []
    },
    {
      "cell_type": "code",
      "source": [
        "x"
      ],
      "metadata": {
        "colab": {
          "base_uri": "https://localhost:8080/"
        },
        "id": "SW4rK6eNW5n_",
        "outputId": "8d26c709-4b38-4fcc-e652-676104fcec8c"
      },
      "execution_count": 6,
      "outputs": [
        {
          "output_type": "execute_result",
          "data": {
            "text/plain": [
              "array([[6.3200e-03, 1.8000e+01, 2.3100e+00, ..., 1.5300e+01, 3.9690e+02,\n",
              "        4.9800e+00],\n",
              "       [2.7310e-02, 0.0000e+00, 7.0700e+00, ..., 1.7800e+01, 3.9690e+02,\n",
              "        9.1400e+00],\n",
              "       [2.7290e-02, 0.0000e+00, 7.0700e+00, ..., 1.7800e+01, 3.9283e+02,\n",
              "        4.0300e+00],\n",
              "       ...,\n",
              "       [6.0760e-02, 0.0000e+00, 1.1930e+01, ..., 2.1000e+01, 3.9690e+02,\n",
              "        5.6400e+00],\n",
              "       [1.0959e-01, 0.0000e+00, 1.1930e+01, ..., 2.1000e+01, 3.9345e+02,\n",
              "        6.4800e+00],\n",
              "       [4.7410e-02, 0.0000e+00, 1.1930e+01, ..., 2.1000e+01, 3.9690e+02,\n",
              "        7.8800e+00]])"
            ]
          },
          "metadata": {},
          "execution_count": 6
        }
      ]
    },
    {
      "cell_type": "code",
      "source": [
        "y = df.target"
      ],
      "metadata": {
        "id": "AP5QvVdVW6MU"
      },
      "execution_count": 7,
      "outputs": []
    },
    {
      "cell_type": "code",
      "source": [
        "x.shape\n",
        "y.shape"
      ],
      "metadata": {
        "colab": {
          "base_uri": "https://localhost:8080/"
        },
        "id": "iyihtQjOa2QZ",
        "outputId": "7a1b2bf4-8f10-48c9-9b86-309e6e14ec67"
      },
      "execution_count": 8,
      "outputs": [
        {
          "output_type": "execute_result",
          "data": {
            "text/plain": [
              "(506,)"
            ]
          },
          "metadata": {},
          "execution_count": 8
        }
      ]
    },
    {
      "cell_type": "code",
      "source": [
        "y"
      ],
      "metadata": {
        "colab": {
          "base_uri": "https://localhost:8080/"
        },
        "id": "gKGQFCAyW_DK",
        "outputId": "858168c5-1abe-466d-f0ec-955626c175b1"
      },
      "execution_count": 9,
      "outputs": [
        {
          "output_type": "execute_result",
          "data": {
            "text/plain": [
              "array([24. , 21.6, 34.7, 33.4, 36.2, 28.7, 22.9, 27.1, 16.5, 18.9, 15. ,\n",
              "       18.9, 21.7, 20.4, 18.2, 19.9, 23.1, 17.5, 20.2, 18.2, 13.6, 19.6,\n",
              "       15.2, 14.5, 15.6, 13.9, 16.6, 14.8, 18.4, 21. , 12.7, 14.5, 13.2,\n",
              "       13.1, 13.5, 18.9, 20. , 21. , 24.7, 30.8, 34.9, 26.6, 25.3, 24.7,\n",
              "       21.2, 19.3, 20. , 16.6, 14.4, 19.4, 19.7, 20.5, 25. , 23.4, 18.9,\n",
              "       35.4, 24.7, 31.6, 23.3, 19.6, 18.7, 16. , 22.2, 25. , 33. , 23.5,\n",
              "       19.4, 22. , 17.4, 20.9, 24.2, 21.7, 22.8, 23.4, 24.1, 21.4, 20. ,\n",
              "       20.8, 21.2, 20.3, 28. , 23.9, 24.8, 22.9, 23.9, 26.6, 22.5, 22.2,\n",
              "       23.6, 28.7, 22.6, 22. , 22.9, 25. , 20.6, 28.4, 21.4, 38.7, 43.8,\n",
              "       33.2, 27.5, 26.5, 18.6, 19.3, 20.1, 19.5, 19.5, 20.4, 19.8, 19.4,\n",
              "       21.7, 22.8, 18.8, 18.7, 18.5, 18.3, 21.2, 19.2, 20.4, 19.3, 22. ,\n",
              "       20.3, 20.5, 17.3, 18.8, 21.4, 15.7, 16.2, 18. , 14.3, 19.2, 19.6,\n",
              "       23. , 18.4, 15.6, 18.1, 17.4, 17.1, 13.3, 17.8, 14. , 14.4, 13.4,\n",
              "       15.6, 11.8, 13.8, 15.6, 14.6, 17.8, 15.4, 21.5, 19.6, 15.3, 19.4,\n",
              "       17. , 15.6, 13.1, 41.3, 24.3, 23.3, 27. , 50. , 50. , 50. , 22.7,\n",
              "       25. , 50. , 23.8, 23.8, 22.3, 17.4, 19.1, 23.1, 23.6, 22.6, 29.4,\n",
              "       23.2, 24.6, 29.9, 37.2, 39.8, 36.2, 37.9, 32.5, 26.4, 29.6, 50. ,\n",
              "       32. , 29.8, 34.9, 37. , 30.5, 36.4, 31.1, 29.1, 50. , 33.3, 30.3,\n",
              "       34.6, 34.9, 32.9, 24.1, 42.3, 48.5, 50. , 22.6, 24.4, 22.5, 24.4,\n",
              "       20. , 21.7, 19.3, 22.4, 28.1, 23.7, 25. , 23.3, 28.7, 21.5, 23. ,\n",
              "       26.7, 21.7, 27.5, 30.1, 44.8, 50. , 37.6, 31.6, 46.7, 31.5, 24.3,\n",
              "       31.7, 41.7, 48.3, 29. , 24. , 25.1, 31.5, 23.7, 23.3, 22. , 20.1,\n",
              "       22.2, 23.7, 17.6, 18.5, 24.3, 20.5, 24.5, 26.2, 24.4, 24.8, 29.6,\n",
              "       42.8, 21.9, 20.9, 44. , 50. , 36. , 30.1, 33.8, 43.1, 48.8, 31. ,\n",
              "       36.5, 22.8, 30.7, 50. , 43.5, 20.7, 21.1, 25.2, 24.4, 35.2, 32.4,\n",
              "       32. , 33.2, 33.1, 29.1, 35.1, 45.4, 35.4, 46. , 50. , 32.2, 22. ,\n",
              "       20.1, 23.2, 22.3, 24.8, 28.5, 37.3, 27.9, 23.9, 21.7, 28.6, 27.1,\n",
              "       20.3, 22.5, 29. , 24.8, 22. , 26.4, 33.1, 36.1, 28.4, 33.4, 28.2,\n",
              "       22.8, 20.3, 16.1, 22.1, 19.4, 21.6, 23.8, 16.2, 17.8, 19.8, 23.1,\n",
              "       21. , 23.8, 23.1, 20.4, 18.5, 25. , 24.6, 23. , 22.2, 19.3, 22.6,\n",
              "       19.8, 17.1, 19.4, 22.2, 20.7, 21.1, 19.5, 18.5, 20.6, 19. , 18.7,\n",
              "       32.7, 16.5, 23.9, 31.2, 17.5, 17.2, 23.1, 24.5, 26.6, 22.9, 24.1,\n",
              "       18.6, 30.1, 18.2, 20.6, 17.8, 21.7, 22.7, 22.6, 25. , 19.9, 20.8,\n",
              "       16.8, 21.9, 27.5, 21.9, 23.1, 50. , 50. , 50. , 50. , 50. , 13.8,\n",
              "       13.8, 15. , 13.9, 13.3, 13.1, 10.2, 10.4, 10.9, 11.3, 12.3,  8.8,\n",
              "        7.2, 10.5,  7.4, 10.2, 11.5, 15.1, 23.2,  9.7, 13.8, 12.7, 13.1,\n",
              "       12.5,  8.5,  5. ,  6.3,  5.6,  7.2, 12.1,  8.3,  8.5,  5. , 11.9,\n",
              "       27.9, 17.2, 27.5, 15. , 17.2, 17.9, 16.3,  7. ,  7.2,  7.5, 10.4,\n",
              "        8.8,  8.4, 16.7, 14.2, 20.8, 13.4, 11.7,  8.3, 10.2, 10.9, 11. ,\n",
              "        9.5, 14.5, 14.1, 16.1, 14.3, 11.7, 13.4,  9.6,  8.7,  8.4, 12.8,\n",
              "       10.5, 17.1, 18.4, 15.4, 10.8, 11.8, 14.9, 12.6, 14.1, 13. , 13.4,\n",
              "       15.2, 16.1, 17.8, 14.9, 14.1, 12.7, 13.5, 14.9, 20. , 16.4, 17.7,\n",
              "       19.5, 20.2, 21.4, 19.9, 19. , 19.1, 19.1, 20.1, 19.9, 19.6, 23.2,\n",
              "       29.8, 13.8, 13.3, 16.7, 12. , 14.6, 21.4, 23. , 23.7, 25. , 21.8,\n",
              "       20.6, 21.2, 19.1, 20.6, 15.2,  7. ,  8.1, 13.6, 20.1, 21.8, 24.5,\n",
              "       23.1, 19.7, 18.3, 21.2, 17.5, 16.8, 22.4, 20.6, 23.9, 22. , 11.9])"
            ]
          },
          "metadata": {},
          "execution_count": 9
        }
      ]
    },
    {
      "cell_type": "code",
      "source": [
        "a = df.feature_names"
      ],
      "metadata": {
        "id": "ny80PLjOW_3p"
      },
      "execution_count": 10,
      "outputs": []
    },
    {
      "cell_type": "code",
      "source": [
        "a"
      ],
      "metadata": {
        "colab": {
          "base_uri": "https://localhost:8080/"
        },
        "id": "fCxQm7DmXFqa",
        "outputId": "1fa85e7a-e92e-4042-c0ee-0eccc7d2f125"
      },
      "execution_count": 11,
      "outputs": [
        {
          "output_type": "execute_result",
          "data": {
            "text/plain": [
              "array(['CRIM', 'ZN', 'INDUS', 'CHAS', 'NOX', 'RM', 'AGE', 'DIS', 'RAD',\n",
              "       'TAX', 'PTRATIO', 'B', 'LSTAT'], dtype='<U7')"
            ]
          },
          "metadata": {},
          "execution_count": 11
        }
      ]
    },
    {
      "cell_type": "code",
      "source": [
        "x.shape"
      ],
      "metadata": {
        "colab": {
          "base_uri": "https://localhost:8080/"
        },
        "id": "KosU0oI6XGTl",
        "outputId": "ec5fcbe2-b7fc-4dec-81b6-1275e73f2db1"
      },
      "execution_count": 12,
      "outputs": [
        {
          "output_type": "execute_result",
          "data": {
            "text/plain": [
              "(506, 13)"
            ]
          },
          "metadata": {},
          "execution_count": 12
        }
      ]
    },
    {
      "cell_type": "code",
      "source": [
        "y.shape"
      ],
      "metadata": {
        "colab": {
          "base_uri": "https://localhost:8080/"
        },
        "id": "7pNq4YaaXJIB",
        "outputId": "df703153-2dfa-4810-c07a-cb473139ba34"
      },
      "execution_count": 13,
      "outputs": [
        {
          "output_type": "execute_result",
          "data": {
            "text/plain": [
              "(506,)"
            ]
          },
          "metadata": {},
          "execution_count": 13
        }
      ]
    },
    {
      "cell_type": "code",
      "source": [
        "from keras.models import Sequential"
      ],
      "metadata": {
        "id": "7yEdpaR_XMut"
      },
      "execution_count": 14,
      "outputs": []
    },
    {
      "cell_type": "code",
      "source": [
        "from keras.layers import Dense"
      ],
      "metadata": {
        "id": "dBQmyPM7XXdp"
      },
      "execution_count": 15,
      "outputs": []
    },
    {
      "cell_type": "code",
      "source": [
        "model = Sequential()"
      ],
      "metadata": {
        "id": "9fsT3q8UXdWJ"
      },
      "execution_count": 16,
      "outputs": []
    },
    {
      "cell_type": "code",
      "source": [
        "model.add(Dense(50,activation ='relu',input_dim = 13)),\n",
        "model.add(Dense(50,activation = 'relu')),\n",
        "model.add(Dense(35,activation ='relu')),\n",
        "model.add(Dense(1))"
      ],
      "metadata": {
        "id": "0pgrj9DUXgIZ"
      },
      "execution_count": 17,
      "outputs": []
    },
    {
      "cell_type": "code",
      "source": [
        "model.summary()"
      ],
      "metadata": {
        "colab": {
          "base_uri": "https://localhost:8080/"
        },
        "id": "SneEsXykYoh2",
        "outputId": "9c67ef3d-f90e-4f1d-8222-f5d5963cdcea"
      },
      "execution_count": 18,
      "outputs": [
        {
          "output_type": "stream",
          "name": "stdout",
          "text": [
            "Model: \"sequential\"\n",
            "_________________________________________________________________\n",
            " Layer (type)                Output Shape              Param #   \n",
            "=================================================================\n",
            " dense (Dense)               (None, 50)                700       \n",
            "                                                                 \n",
            " dense_1 (Dense)             (None, 50)                2550      \n",
            "                                                                 \n",
            " dense_2 (Dense)             (None, 35)                1785      \n",
            "                                                                 \n",
            " dense_3 (Dense)             (None, 1)                 36        \n",
            "                                                                 \n",
            "=================================================================\n",
            "Total params: 5,071\n",
            "Trainable params: 5,071\n",
            "Non-trainable params: 0\n",
            "_________________________________________________________________\n"
          ]
        }
      ]
    },
    {
      "cell_type": "code",
      "source": [
        "model.compile(loss='mse',optimizer='adam')"
      ],
      "metadata": {
        "id": "96XT8NTZZbuA"
      },
      "execution_count": 23,
      "outputs": []
    },
    {
      "cell_type": "code",
      "source": [
        "model.fit(x,y,epochs=100)"
      ],
      "metadata": {
        "colab": {
          "base_uri": "https://localhost:8080/"
        },
        "id": "nzDlLjBeZmd7",
        "outputId": "38795096-1f2b-41b3-f887-2edbf9c506f5"
      },
      "execution_count": 25,
      "outputs": [
        {
          "output_type": "stream",
          "name": "stdout",
          "text": [
            "Epoch 1/100\n",
            "16/16 [==============================] - 0s 2ms/step - loss: 4.4084\n",
            "Epoch 2/100\n",
            "16/16 [==============================] - 0s 2ms/step - loss: 4.4756\n",
            "Epoch 3/100\n",
            "16/16 [==============================] - 0s 2ms/step - loss: 4.4381\n",
            "Epoch 4/100\n",
            "16/16 [==============================] - 0s 2ms/step - loss: 4.4601\n",
            "Epoch 5/100\n",
            "16/16 [==============================] - 0s 2ms/step - loss: 4.4957\n",
            "Epoch 6/100\n",
            "16/16 [==============================] - 0s 2ms/step - loss: 4.4462\n",
            "Epoch 7/100\n",
            "16/16 [==============================] - 0s 2ms/step - loss: 4.4182\n",
            "Epoch 8/100\n",
            "16/16 [==============================] - 0s 2ms/step - loss: 4.5907\n",
            "Epoch 9/100\n",
            "16/16 [==============================] - 0s 2ms/step - loss: 4.5098\n",
            "Epoch 10/100\n",
            "16/16 [==============================] - 0s 2ms/step - loss: 4.4086\n",
            "Epoch 11/100\n",
            "16/16 [==============================] - 0s 2ms/step - loss: 4.5293\n",
            "Epoch 12/100\n",
            "16/16 [==============================] - 0s 2ms/step - loss: 4.4597\n",
            "Epoch 13/100\n",
            "16/16 [==============================] - 0s 2ms/step - loss: 4.5141\n",
            "Epoch 14/100\n",
            "16/16 [==============================] - 0s 2ms/step - loss: 4.4518\n",
            "Epoch 15/100\n",
            "16/16 [==============================] - 0s 2ms/step - loss: 4.4139\n",
            "Epoch 16/100\n",
            "16/16 [==============================] - 0s 2ms/step - loss: 4.3781\n",
            "Epoch 17/100\n",
            "16/16 [==============================] - 0s 3ms/step - loss: 4.4111\n",
            "Epoch 18/100\n",
            "16/16 [==============================] - 0s 2ms/step - loss: 4.4697\n",
            "Epoch 19/100\n",
            "16/16 [==============================] - 0s 2ms/step - loss: 4.4761\n",
            "Epoch 20/100\n",
            "16/16 [==============================] - 0s 2ms/step - loss: 4.3986\n",
            "Epoch 21/100\n",
            "16/16 [==============================] - 0s 2ms/step - loss: 4.3970\n",
            "Epoch 22/100\n",
            "16/16 [==============================] - 0s 2ms/step - loss: 4.3417\n",
            "Epoch 23/100\n",
            "16/16 [==============================] - 0s 2ms/step - loss: 4.4168\n",
            "Epoch 24/100\n",
            "16/16 [==============================] - 0s 2ms/step - loss: 4.3981\n",
            "Epoch 25/100\n",
            "16/16 [==============================] - 0s 2ms/step - loss: 4.3587\n",
            "Epoch 26/100\n",
            "16/16 [==============================] - 0s 2ms/step - loss: 4.5446\n",
            "Epoch 27/100\n",
            "16/16 [==============================] - 0s 2ms/step - loss: 4.5995\n",
            "Epoch 28/100\n",
            "16/16 [==============================] - 0s 3ms/step - loss: 4.5994\n",
            "Epoch 29/100\n",
            "16/16 [==============================] - 0s 2ms/step - loss: 4.6703\n",
            "Epoch 30/100\n",
            "16/16 [==============================] - 0s 2ms/step - loss: 4.6625\n",
            "Epoch 31/100\n",
            "16/16 [==============================] - 0s 2ms/step - loss: 4.4344\n",
            "Epoch 32/100\n",
            "16/16 [==============================] - 0s 2ms/step - loss: 4.3985\n",
            "Epoch 33/100\n",
            "16/16 [==============================] - 0s 2ms/step - loss: 4.3262\n",
            "Epoch 34/100\n",
            "16/16 [==============================] - 0s 3ms/step - loss: 4.4443\n",
            "Epoch 35/100\n",
            "16/16 [==============================] - 0s 2ms/step - loss: 4.5404\n",
            "Epoch 36/100\n",
            "16/16 [==============================] - 0s 2ms/step - loss: 4.3803\n",
            "Epoch 37/100\n",
            "16/16 [==============================] - 0s 2ms/step - loss: 4.3190\n",
            "Epoch 38/100\n",
            "16/16 [==============================] - 0s 2ms/step - loss: 4.2953\n",
            "Epoch 39/100\n",
            "16/16 [==============================] - 0s 3ms/step - loss: 4.3382\n",
            "Epoch 40/100\n",
            "16/16 [==============================] - 0s 2ms/step - loss: 4.3791\n",
            "Epoch 41/100\n",
            "16/16 [==============================] - 0s 2ms/step - loss: 4.3637\n",
            "Epoch 42/100\n",
            "16/16 [==============================] - 0s 2ms/step - loss: 4.4600\n",
            "Epoch 43/100\n",
            "16/16 [==============================] - 0s 2ms/step - loss: 4.3902\n",
            "Epoch 44/100\n",
            "16/16 [==============================] - 0s 2ms/step - loss: 4.3250\n",
            "Epoch 45/100\n",
            "16/16 [==============================] - 0s 2ms/step - loss: 4.3695\n",
            "Epoch 46/100\n",
            "16/16 [==============================] - 0s 2ms/step - loss: 4.3777\n",
            "Epoch 47/100\n",
            "16/16 [==============================] - 0s 2ms/step - loss: 4.4836\n",
            "Epoch 48/100\n",
            "16/16 [==============================] - 0s 3ms/step - loss: 4.4001\n",
            "Epoch 49/100\n",
            "16/16 [==============================] - 0s 2ms/step - loss: 4.4923\n",
            "Epoch 50/100\n",
            "16/16 [==============================] - 0s 2ms/step - loss: 4.3805\n",
            "Epoch 51/100\n",
            "16/16 [==============================] - 0s 2ms/step - loss: 4.4590\n",
            "Epoch 52/100\n",
            "16/16 [==============================] - 0s 2ms/step - loss: 4.5373\n",
            "Epoch 53/100\n",
            "16/16 [==============================] - 0s 3ms/step - loss: 4.3941\n",
            "Epoch 54/100\n",
            "16/16 [==============================] - 0s 2ms/step - loss: 4.3595\n",
            "Epoch 55/100\n",
            "16/16 [==============================] - 0s 2ms/step - loss: 4.5287\n",
            "Epoch 56/100\n",
            "16/16 [==============================] - 0s 2ms/step - loss: 4.3819\n",
            "Epoch 57/100\n",
            "16/16 [==============================] - 0s 2ms/step - loss: 4.3708\n",
            "Epoch 58/100\n",
            "16/16 [==============================] - 0s 2ms/step - loss: 4.3098\n",
            "Epoch 59/100\n",
            "16/16 [==============================] - 0s 2ms/step - loss: 4.4567\n",
            "Epoch 60/100\n",
            "16/16 [==============================] - 0s 2ms/step - loss: 4.6055\n",
            "Epoch 61/100\n",
            "16/16 [==============================] - 0s 3ms/step - loss: 4.5094\n",
            "Epoch 62/100\n",
            "16/16 [==============================] - 0s 2ms/step - loss: 4.3979\n",
            "Epoch 63/100\n",
            "16/16 [==============================] - 0s 3ms/step - loss: 4.4297\n",
            "Epoch 64/100\n",
            "16/16 [==============================] - 0s 2ms/step - loss: 4.3559\n",
            "Epoch 65/100\n",
            "16/16 [==============================] - 0s 2ms/step - loss: 4.4515\n",
            "Epoch 66/100\n",
            "16/16 [==============================] - 0s 2ms/step - loss: 4.4177\n",
            "Epoch 67/100\n",
            "16/16 [==============================] - 0s 2ms/step - loss: 4.3418\n",
            "Epoch 68/100\n",
            "16/16 [==============================] - 0s 2ms/step - loss: 4.4726\n",
            "Epoch 69/100\n",
            "16/16 [==============================] - 0s 2ms/step - loss: 4.2950\n",
            "Epoch 70/100\n",
            "16/16 [==============================] - 0s 2ms/step - loss: 4.3875\n",
            "Epoch 71/100\n",
            "16/16 [==============================] - 0s 2ms/step - loss: 4.2937\n",
            "Epoch 72/100\n",
            "16/16 [==============================] - 0s 2ms/step - loss: 4.3142\n",
            "Epoch 73/100\n",
            "16/16 [==============================] - 0s 2ms/step - loss: 4.3214\n",
            "Epoch 74/100\n",
            "16/16 [==============================] - 0s 2ms/step - loss: 4.2999\n",
            "Epoch 75/100\n",
            "16/16 [==============================] - 0s 2ms/step - loss: 4.2237\n",
            "Epoch 76/100\n",
            "16/16 [==============================] - 0s 2ms/step - loss: 4.3717\n",
            "Epoch 77/100\n",
            "16/16 [==============================] - 0s 2ms/step - loss: 4.2943\n",
            "Epoch 78/100\n",
            "16/16 [==============================] - 0s 3ms/step - loss: 4.3272\n",
            "Epoch 79/100\n",
            "16/16 [==============================] - 0s 2ms/step - loss: 4.3229\n",
            "Epoch 80/100\n",
            "16/16 [==============================] - 0s 2ms/step - loss: 4.2476\n",
            "Epoch 81/100\n",
            "16/16 [==============================] - 0s 2ms/step - loss: 4.2875\n",
            "Epoch 82/100\n",
            "16/16 [==============================] - 0s 2ms/step - loss: 4.3022\n",
            "Epoch 83/100\n",
            "16/16 [==============================] - 0s 3ms/step - loss: 4.2792\n",
            "Epoch 84/100\n",
            "16/16 [==============================] - 0s 2ms/step - loss: 4.3240\n",
            "Epoch 85/100\n",
            "16/16 [==============================] - 0s 2ms/step - loss: 4.2523\n",
            "Epoch 86/100\n",
            "16/16 [==============================] - 0s 2ms/step - loss: 4.2015\n",
            "Epoch 87/100\n",
            "16/16 [==============================] - 0s 2ms/step - loss: 4.2496\n",
            "Epoch 88/100\n",
            "16/16 [==============================] - 0s 2ms/step - loss: 4.2831\n",
            "Epoch 89/100\n",
            "16/16 [==============================] - 0s 3ms/step - loss: 4.2439\n",
            "Epoch 90/100\n",
            "16/16 [==============================] - 0s 2ms/step - loss: 4.2434\n",
            "Epoch 91/100\n",
            "16/16 [==============================] - 0s 2ms/step - loss: 4.3495\n",
            "Epoch 92/100\n",
            "16/16 [==============================] - 0s 2ms/step - loss: 4.3209\n",
            "Epoch 93/100\n",
            "16/16 [==============================] - 0s 3ms/step - loss: 4.4493\n",
            "Epoch 94/100\n",
            "16/16 [==============================] - 0s 2ms/step - loss: 4.4245\n",
            "Epoch 95/100\n",
            "16/16 [==============================] - 0s 2ms/step - loss: 4.3333\n",
            "Epoch 96/100\n",
            "16/16 [==============================] - 0s 2ms/step - loss: 4.2433\n",
            "Epoch 97/100\n",
            "16/16 [==============================] - 0s 3ms/step - loss: 4.2505\n",
            "Epoch 98/100\n",
            "16/16 [==============================] - 0s 2ms/step - loss: 4.4270\n",
            "Epoch 99/100\n",
            "16/16 [==============================] - 0s 2ms/step - loss: 4.4164\n",
            "Epoch 100/100\n",
            "16/16 [==============================] - 0s 2ms/step - loss: 4.3848\n"
          ]
        },
        {
          "output_type": "execute_result",
          "data": {
            "text/plain": [
              "<keras.callbacks.History at 0x7f4b15ee67d0>"
            ]
          },
          "metadata": {},
          "execution_count": 25
        }
      ]
    },
    {
      "cell_type": "code",
      "source": [
        ""
      ],
      "metadata": {
        "id": "1F0rn3DTZrdO"
      },
      "execution_count": null,
      "outputs": []
    }
  ]
}